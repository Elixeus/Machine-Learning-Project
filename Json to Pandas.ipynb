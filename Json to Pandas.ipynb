{
 "cells": [
  {
   "cell_type": "code",
   "execution_count": 1,
   "metadata": {
    "collapsed": true
   },
   "outputs": [],
   "source": [
    "import pickle \n",
    "import json\n",
    "import pandas as pd\n",
    "from pandas.io.json import json_normalize"
   ]
  },
  {
   "cell_type": "code",
   "execution_count": 2,
   "metadata": {
    "collapsed": false
   },
   "outputs": [],
   "source": [
    "#Importing the file and applying the json_normalize funtion to the info\n",
    "# we want in the dictinoary (placed in the route that I used)\n",
    "file1 = open('ratings_1.pkl', 'rb')\n",
    "file2 = open('ratings_2.pkl', 'rb')\n",
    "file3 = open('ratings_3.pkl', 'rb')\n",
    "data1 = pickle.load(file1)\n",
    "data2 = pickle.load(file2)\n",
    "data3 = pickle.load(file3)"
   ]
  },
  {
   "cell_type": "code",
   "execution_count": 3,
   "metadata": {
    "collapsed": false
   },
   "outputs": [],
   "source": [
    "#Iterating trough the dictionary keys to get all of the restaurants\n",
    "food_data1 = []\n",
    "emptydf = pd.DataFrame()\n",
    "for i in range (0, len(data1)):\n",
    "    try:\n",
    "        datadf = pd.io.json.json_normalize(data1[i]['response']['groups'][0]['items'][0]['venue'])\n",
    "    except IndexError:\n",
    "        datadf = emptydf\n",
    "    food_data1.append(datadf)    \n",
    "food_df1 = pd.concat(food_data1)"
   ]
  },
  {
   "cell_type": "code",
   "execution_count": 4,
   "metadata": {
    "collapsed": false
   },
   "outputs": [],
   "source": [
    "#Iterating trough the dictionary keys to get all of the restaurants\n",
    "food_data2 = []\n",
    "emptydf = pd.DataFrame()\n",
    "for i in range(len(data1), (len(data1)+len(data2))):\n",
    "    try:\n",
    "        datadf = pd.io.json.json_normalize(data2[i]['response']['groups'][0]['items'][0]['venue'])\n",
    "    except Exception:\n",
    "        pass\n",
    "    except IndexError:\n",
    "        datadf = emptydf\n",
    "    food_data2.append(datadf)    \n",
    "food_df2 = pd.concat(food_data2)"
   ]
  },
  {
   "cell_type": "code",
   "execution_count": 5,
   "metadata": {
    "collapsed": false
   },
   "outputs": [],
   "source": [
    "#Iterating trough the dictionary keys to get all of the restaurants\n",
    "food_data3 = []\n",
    "emptydf = pd.DataFrame()\n",
    "for i in range(12000, 18689):\n",
    "    try:\n",
    "        datadf = pd.io.json.json_normalize(data3[i]['response']['groups'][0]['items'][0]['venue'])\n",
    "    except Exception:\n",
    "        pass\n",
    "    except IndexError:\n",
    "        datadf = emptydf\n",
    "    food_data3.append(datadf)    \n",
    "food_df3 = pd.concat(food_data3)"
   ]
  },
  {
   "cell_type": "code",
   "execution_count": 6,
   "metadata": {
    "collapsed": false
   },
   "outputs": [
    {
     "data": {
      "text/plain": [
       "Index([          u'allowMenuUrlEdit',                 u'categories',\n",
       "                 u'contact.facebook',       u'contact.facebookName',\n",
       "         u'contact.facebookUsername',     u'contact.formattedPhone',\n",
       "                    u'contact.phone',            u'contact.twitter',\n",
       "                      u'delivery.id',     u'delivery.provider.name',\n",
       "                     u'delivery.url',               u'events.count',\n",
       "                     u'events.items',             u'events.summary',\n",
       "                          u'hasMenu',              u'hereNow.count',\n",
       "                   u'hereNow.groups',            u'hereNow.summary',\n",
       "             u'hours.isLocalHoliday',               u'hours.isOpen',\n",
       "                     u'hours.status',                         u'id',\n",
       "                 u'location.address',                u'location.cc',\n",
       "                    u'location.city',           u'location.country',\n",
       "             u'location.crossStreet',          u'location.distance',\n",
       "        u'location.formattedAddress',               u'location.lat',\n",
       "                     u'location.lng', u'location.mayNotNeedAddress',\n",
       "            u'location.neighborhood',        u'location.postalCode',\n",
       "                   u'location.state',                u'menu.anchor',\n",
       "                 u'menu.externalUrl',                 u'menu.label',\n",
       "                   u'menu.mobileUrl',                  u'menu.type',\n",
       "                         u'menu.url',                       u'name',\n",
       "                     u'photos.count',              u'photos.groups',\n",
       "                   u'price.currency',              u'price.message',\n",
       "                       u'price.tier',                     u'rating',\n",
       "                      u'ratingColor',              u'ratingSignals',\n",
       "              u'stats.checkinsCount',             u'stats.tipCount',\n",
       "                 u'stats.usersCount',                    u'storeId',\n",
       "                              u'url',               u'venuePage.id',\n",
       "                         u'verified'],\n",
       "      dtype='object')"
      ]
     },
     "execution_count": 6,
     "metadata": {},
     "output_type": "execute_result"
    }
   ],
   "source": [
    "#Printing all the columns for the extracted dataframes\n",
    "food_df1.columns"
   ]
  },
  {
   "cell_type": "code",
   "execution_count": 7,
   "metadata": {
    "collapsed": false
   },
   "outputs": [],
   "source": [
    "#Subsetting the columns we want\n",
    "food_df1 = food_df1[['name', 'rating', 'stats.checkinsCount', 'price.message']]\n",
    "food_df2 = food_df2[['name', 'rating', 'stats.checkinsCount', 'price.message']]\n",
    "food_df3 = food_df3[['name', 'rating', 'stats.checkinsCount', 'price.message']]"
   ]
  },
  {
   "cell_type": "code",
   "execution_count": 8,
   "metadata": {
    "collapsed": false
   },
   "outputs": [],
   "source": [
    "#Resetting the index and deleting the previous index column\n",
    "food_df1 = food_df1.reset_index()\n",
    "del food_df1['index']\n",
    "food_df2 = food_df2.reset_index()\n",
    "del food_df2['index']\n",
    "food_df3 = food_df3.reset_index()\n",
    "del food_df3['index']"
   ]
  },
  {
   "cell_type": "code",
   "execution_count": 9,
   "metadata": {
    "collapsed": false
   },
   "outputs": [
    {
     "data": {
      "text/html": [
       "<div>\n",
       "<table border=\"1\" class=\"dataframe\">\n",
       "  <thead>\n",
       "    <tr style=\"text-align: right;\">\n",
       "      <th></th>\n",
       "      <th>name</th>\n",
       "      <th>rating</th>\n",
       "      <th>stats.checkinsCount</th>\n",
       "      <th>price.message</th>\n",
       "    </tr>\n",
       "  </thead>\n",
       "  <tbody>\n",
       "    <tr>\n",
       "      <th>0</th>\n",
       "      <td>Morris Park Bake Shop</td>\n",
       "      <td>NaN</td>\n",
       "      <td>159</td>\n",
       "      <td>Cheap</td>\n",
       "    </tr>\n",
       "    <tr>\n",
       "      <th>1</th>\n",
       "      <td>Wendy's</td>\n",
       "      <td>6.0</td>\n",
       "      <td>521</td>\n",
       "      <td>Moderate</td>\n",
       "    </tr>\n",
       "    <tr>\n",
       "      <th>2</th>\n",
       "      <td>McGee's Pub</td>\n",
       "      <td>7.8</td>\n",
       "      <td>19611</td>\n",
       "      <td>Moderate</td>\n",
       "    </tr>\n",
       "    <tr>\n",
       "      <th>3</th>\n",
       "      <td>Riviera Caterers</td>\n",
       "      <td>NaN</td>\n",
       "      <td>400</td>\n",
       "      <td>NaN</td>\n",
       "    </tr>\n",
       "    <tr>\n",
       "      <th>4</th>\n",
       "      <td>Brunos On the Boulevard</td>\n",
       "      <td>7.4</td>\n",
       "      <td>624</td>\n",
       "      <td>NaN</td>\n",
       "    </tr>\n",
       "  </tbody>\n",
       "</table>\n",
       "</div>"
      ],
      "text/plain": [
       "                      name  rating  stats.checkinsCount price.message\n",
       "0    Morris Park Bake Shop     NaN                  159         Cheap\n",
       "1                  Wendy's     6.0                  521      Moderate\n",
       "2              McGee's Pub     7.8                19611      Moderate\n",
       "3         Riviera Caterers     NaN                  400           NaN\n",
       "4  Brunos On the Boulevard     7.4                  624           NaN"
      ]
     },
     "execution_count": 9,
     "metadata": {},
     "output_type": "execute_result"
    }
   ],
   "source": [
    "#Printing the resultant frame (1st part)\n",
    "food_df1.head()"
   ]
  },
  {
   "cell_type": "code",
   "execution_count": 10,
   "metadata": {
    "collapsed": false
   },
   "outputs": [],
   "source": [
    "#Joining the three parts of the data\n",
    "food_int = food_df1.append([food_df2, food_df3], ignore_index=True)"
   ]
  },
  {
   "cell_type": "code",
   "execution_count": 11,
   "metadata": {
    "collapsed": false
   },
   "outputs": [
    {
     "data": {
      "text/html": [
       "<div>\n",
       "<table border=\"1\" class=\"dataframe\">\n",
       "  <thead>\n",
       "    <tr style=\"text-align: right;\">\n",
       "      <th></th>\n",
       "      <th>name</th>\n",
       "      <th>rating</th>\n",
       "      <th>stats.checkinsCount</th>\n",
       "      <th>price.message</th>\n",
       "    </tr>\n",
       "  </thead>\n",
       "  <tbody>\n",
       "    <tr>\n",
       "      <th>0</th>\n",
       "      <td>Morris Park Bake Shop</td>\n",
       "      <td>NaN</td>\n",
       "      <td>159</td>\n",
       "      <td>Cheap</td>\n",
       "    </tr>\n",
       "    <tr>\n",
       "      <th>1</th>\n",
       "      <td>Wendy's</td>\n",
       "      <td>6.0</td>\n",
       "      <td>521</td>\n",
       "      <td>Moderate</td>\n",
       "    </tr>\n",
       "    <tr>\n",
       "      <th>2</th>\n",
       "      <td>McGee's Pub</td>\n",
       "      <td>7.8</td>\n",
       "      <td>19611</td>\n",
       "      <td>Moderate</td>\n",
       "    </tr>\n",
       "    <tr>\n",
       "      <th>3</th>\n",
       "      <td>Riviera Caterers</td>\n",
       "      <td>NaN</td>\n",
       "      <td>400</td>\n",
       "      <td>NaN</td>\n",
       "    </tr>\n",
       "    <tr>\n",
       "      <th>4</th>\n",
       "      <td>Brunos On the Boulevard</td>\n",
       "      <td>7.4</td>\n",
       "      <td>624</td>\n",
       "      <td>NaN</td>\n",
       "    </tr>\n",
       "    <tr>\n",
       "      <th>5</th>\n",
       "      <td>Wilkens Fine Foods</td>\n",
       "      <td>NaN</td>\n",
       "      <td>261</td>\n",
       "      <td>Cheap</td>\n",
       "    </tr>\n",
       "    <tr>\n",
       "      <th>6</th>\n",
       "      <td>Taste the Tropics</td>\n",
       "      <td>7.8</td>\n",
       "      <td>724</td>\n",
       "      <td>Cheap</td>\n",
       "    </tr>\n",
       "    <tr>\n",
       "      <th>7</th>\n",
       "      <td>Wild Asia Monorail</td>\n",
       "      <td>6.6</td>\n",
       "      <td>1832</td>\n",
       "      <td>NaN</td>\n",
       "    </tr>\n",
       "    <tr>\n",
       "      <th>8</th>\n",
       "      <td>1 East 66th Street</td>\n",
       "      <td>NaN</td>\n",
       "      <td>1</td>\n",
       "      <td>NaN</td>\n",
       "    </tr>\n",
       "    <tr>\n",
       "      <th>9</th>\n",
       "      <td>Seuda</td>\n",
       "      <td>NaN</td>\n",
       "      <td>16</td>\n",
       "      <td>Moderate</td>\n",
       "    </tr>\n",
       "  </tbody>\n",
       "</table>\n",
       "</div>"
      ],
      "text/plain": [
       "                      name  rating  stats.checkinsCount price.message\n",
       "0    Morris Park Bake Shop     NaN                  159         Cheap\n",
       "1                  Wendy's     6.0                  521      Moderate\n",
       "2              McGee's Pub     7.8                19611      Moderate\n",
       "3         Riviera Caterers     NaN                  400           NaN\n",
       "4  Brunos On the Boulevard     7.4                  624           NaN\n",
       "5       Wilkens Fine Foods     NaN                  261         Cheap\n",
       "6        Taste the Tropics     7.8                  724         Cheap\n",
       "7       Wild Asia Monorail     6.6                 1832           NaN\n",
       "8       1 East 66th Street     NaN                    1           NaN\n",
       "9                    Seuda     NaN                   16      Moderate"
      ]
     },
     "execution_count": 11,
     "metadata": {},
     "output_type": "execute_result"
    }
   ],
   "source": [
    "#printing final frame head\n",
    "food_int.head(10)"
   ]
  },
  {
   "cell_type": "code",
   "execution_count": 12,
   "metadata": {
    "collapsed": false
   },
   "outputs": [
    {
     "data": {
      "text/plain": [
       "18673"
      ]
     },
     "execution_count": 12,
     "metadata": {},
     "output_type": "execute_result"
    }
   ],
   "source": [
    "#Printing the final frame lenght\n",
    "len(food_int)"
   ]
  },
  {
   "cell_type": "code",
   "execution_count": null,
   "metadata": {
    "collapsed": true
   },
   "outputs": [],
   "source": []
  }
 ],
 "metadata": {
  "kernelspec": {
   "display_name": "Python 2",
   "language": "python",
   "name": "python2"
  },
  "language_info": {
   "codemirror_mode": {
    "name": "ipython",
    "version": 2
   },
   "file_extension": ".py",
   "mimetype": "text/x-python",
   "name": "python",
   "nbconvert_exporter": "python",
   "pygments_lexer": "ipython2",
   "version": "2.7.10"
  }
 },
 "nbformat": 4,
 "nbformat_minor": 0
}
